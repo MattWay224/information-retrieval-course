{
 "cells": [
  {
   "cell_type": "markdown",
   "id": "24d56d6d",
   "metadata": {
    "id": "24d56d6d"
   },
   "source": [
    "# Ozon crawling!\n",
    "\n",
    "In this task we will crawl https://www.ozon.com/ website!\n",
    "\n",
    "**NB:** This lab is designed to be executed **locally** at your laptop, as it launches local application (browser). Indeed, headless mode can be used in colab, but this would also require specific browser installation steps. Thus, please use Anaconda."
   ]
  },
  {
   "cell_type": "markdown",
   "id": "0a1a041b",
   "metadata": {
    "id": "0a1a041b"
   },
   "source": [
    "## Dependency installation\n",
    "\n",
    "Let's try to load and parse the page the way we did before:"
   ]
  },
  {
   "cell_type": "code",
   "execution_count": 59,
   "id": "19e77ae4",
   "metadata": {
    "id": "19e77ae4",
    "outputId": "a879bc02-f1a3-4c9a-c340-87edebfd039e",
    "tags": [],
    "ExecuteTime": {
     "end_time": "2024-09-03T11:19:37.834701300Z",
     "start_time": "2024-09-03T11:19:37.080619800Z"
    }
   },
   "outputs": [
    {
     "name": "stdout",
     "output_type": "stream",
     "text": [
      "Status: 403\n"
     ]
    }
   ],
   "source": [
    "from datetime import time\n",
    "\n",
    "import requests\n",
    "from bs4 import BeautifulSoup\n",
    "from prompt_toolkit.contrib.telnet.protocol import EC\n",
    "\n",
    "resp = requests.get(\"https://www.ozon.ru/category/smartfony-15502/\")\n",
    "print(\"Status:\", resp.status_code)"
   ]
  },
  {
   "cell_type": "markdown",
   "id": "b7ccd713",
   "metadata": {
    "id": "b7ccd713"
   },
   "source": [
    "Wowowow! https://developer.mozilla.org/en-US/docs/Web/HTTP/Status/403\n",
    "```\n",
    "403 Forbidden – you don't have permission to access this resource is an HTTP status code that occurs when the web server understands the request but can't provide additional access. :\n",
    "```\n",
    "\n",
    "As we see, the output is not what we would expect. So, what can we do when a page is not being loaded right away, but is rather rendered by a script, and only in a valid browser? Browser engines can help us getting the data. Let's try to load the same web page, but do it in a different way: let's give a browser some time to load the scripts and run them. And then we will work with DOM (Document Object Model), but we will obtain this DOM from the browser engine itself, not via `BeautifulSoup`.\n",
    "\n",
    "Where do we get browser engine from? Simply installing a browser will do the thing. How do we send commands to it from the code, and retrieve the DOM? Service applications called `drivers` will interpret commands and translate them into browser actions.\n",
    "\n",
    "For each supported browser engine you will need to:\n",
    "1. install browser itself;\n",
    "2. download 'driver' - binary executable, which passed commands from selenium to browser. E.g. [Gecko = Firefox](https://github.com/mozilla/geckodriver/releases), [ChromeDriver](http://chromedriver.storage.googleapis.com/index.html);\n",
    "3. unpack driver into a folder under PATH environment variable. Or specify exact binary location when you write the code.\n",
    "\n",
    "### Download driver\n",
    "\n",
    "And place it in any folder or under PATH env. variable. [Firefox](https://github.com/mozilla/geckodriver/releases), [Chrome](http://chromedriver.storage.googleapis.com/index.html)\n",
    "\n",
    "**FireFox** is recommended for this lab\n",
    "\n",
    "### Install selenium\n",
    "\n",
    "Selenium is a powerful tool for automated UI testing. We will use it to emulate used actions with the website."
   ]
  },
  {
   "cell_type": "code",
   "execution_count": 29,
   "id": "4eea7c08-b96c-4a1b-8901-71e8e1e692a0",
   "metadata": {
    "ExecuteTime": {
     "end_time": "2024-09-03T10:36:27.958781200Z",
     "start_time": "2024-09-03T10:36:24.299948700Z"
    }
   },
   "outputs": [
    {
     "name": "stdout",
     "output_type": "stream",
     "text": [
      "Requirement already satisfied: selenium in c:\\users\\mattway\\pycharmprojects\\pythonproject5\\venv\\lib\\site-packages (4.24.0)\n",
      "Requirement already satisfied: urllib3[socks]<3,>=1.26 in c:\\users\\mattway\\pycharmprojects\\pythonproject5\\venv\\lib\\site-packages (from selenium) (2.2.2)\n",
      "Requirement already satisfied: trio~=0.17 in c:\\users\\mattway\\pycharmprojects\\pythonproject5\\venv\\lib\\site-packages (from selenium) (0.26.2)\n",
      "Requirement already satisfied: trio-websocket~=0.9 in c:\\users\\mattway\\pycharmprojects\\pythonproject5\\venv\\lib\\site-packages (from selenium) (0.11.1)\n",
      "Requirement already satisfied: certifi>=2021.10.8 in c:\\users\\mattway\\pycharmprojects\\pythonproject5\\venv\\lib\\site-packages (from selenium) (2024.8.30)\n",
      "Requirement already satisfied: typing_extensions~=4.9 in c:\\users\\mattway\\pycharmprojects\\pythonproject5\\venv\\lib\\site-packages (from selenium) (4.12.2)\n",
      "Requirement already satisfied: websocket-client~=1.8 in c:\\users\\mattway\\pycharmprojects\\pythonproject5\\venv\\lib\\site-packages (from selenium) (1.8.0)\n",
      "Requirement already satisfied: attrs>=23.2.0 in c:\\users\\mattway\\pycharmprojects\\pythonproject5\\venv\\lib\\site-packages (from trio~=0.17->selenium) (24.2.0)\n",
      "Requirement already satisfied: sortedcontainers in c:\\users\\mattway\\pycharmprojects\\pythonproject5\\venv\\lib\\site-packages (from trio~=0.17->selenium) (2.4.0)\n",
      "Requirement already satisfied: idna in c:\\users\\mattway\\pycharmprojects\\pythonproject5\\venv\\lib\\site-packages (from trio~=0.17->selenium) (3.8)\n",
      "Requirement already satisfied: outcome in c:\\users\\mattway\\pycharmprojects\\pythonproject5\\venv\\lib\\site-packages (from trio~=0.17->selenium) (1.3.0.post0)\n",
      "Requirement already satisfied: sniffio>=1.3.0 in c:\\users\\mattway\\pycharmprojects\\pythonproject5\\venv\\lib\\site-packages (from trio~=0.17->selenium) (1.3.1)\n",
      "Requirement already satisfied: cffi>=1.14 in c:\\users\\mattway\\pycharmprojects\\pythonproject5\\venv\\lib\\site-packages (from trio~=0.17->selenium) (1.17.0)\n",
      "Requirement already satisfied: exceptiongroup in c:\\users\\mattway\\pycharmprojects\\pythonproject5\\venv\\lib\\site-packages (from trio~=0.17->selenium) (1.2.2)\n",
      "Requirement already satisfied: wsproto>=0.14 in c:\\users\\mattway\\pycharmprojects\\pythonproject5\\venv\\lib\\site-packages (from trio-websocket~=0.9->selenium) (1.2.0)\n",
      "Requirement already satisfied: pysocks!=1.5.7,<2.0,>=1.5.6 in c:\\users\\mattway\\pycharmprojects\\pythonproject5\\venv\\lib\\site-packages (from urllib3[socks]<3,>=1.26->selenium) (1.7.1)\n",
      "Requirement already satisfied: pycparser in c:\\users\\mattway\\pycharmprojects\\pythonproject5\\venv\\lib\\site-packages (from cffi>=1.14->trio~=0.17->selenium) (2.22)\n",
      "Requirement already satisfied: h11<1,>=0.9.0 in c:\\users\\mattway\\pycharmprojects\\pythonproject5\\venv\\lib\\site-packages (from wsproto>=0.14->trio-websocket~=0.9->selenium) (0.14.0)\n"
     ]
    },
    {
     "name": "stderr",
     "output_type": "stream",
     "text": [
      "\n",
      "[notice] A new release of pip is available: 23.2.1 -> 24.2\n",
      "[notice] To update, run: python.exe -m pip install --upgrade pip\n"
     ]
    }
   ],
   "source": [
    "!pip install -U selenium"
   ]
  },
  {
   "cell_type": "markdown",
   "id": "87e50248-573f-4cde-8f53-0ba662d3fa99",
   "metadata": {},
   "source": [
    "Check it works"
   ]
  },
  {
   "cell_type": "code",
   "execution_count": 30,
   "id": "fcfb22dd-fbd2-4ca7-a23c-83b01cbb7020",
   "metadata": {
    "ExecuteTime": {
     "end_time": "2024-09-03T10:36:28.010507200Z",
     "start_time": "2024-09-03T10:36:27.955394100Z"
    }
   },
   "outputs": [],
   "source": [
    "from selenium import webdriver"
   ]
  },
  {
   "cell_type": "markdown",
   "id": "d7ec84bc-ad3a-42f1-aaa1-078b051d967c",
   "metadata": {},
   "source": [
    "### Launch browser\n",
    "This will open a browser window"
   ]
  },
  {
   "cell_type": "code",
   "execution_count": 60,
   "id": "6521014f-0e0e-4de1-b6f3-3cf75f63e7fc",
   "metadata": {
    "ExecuteTime": {
     "end_time": "2024-09-03T11:19:54.208065700Z",
     "start_time": "2024-09-03T11:19:45.369280800Z"
    }
   },
   "outputs": [],
   "source": [
    "browser = webdriver.Firefox()\n",
    "# browser = webdriver.Chrome()  # Make sure you have the ChromeDriver installed and in your PATH\n",
    "# or explicitly\n",
    "# browser = webdriver.Firefox(\n",
    "#     executable_path='C:/bin/geckodriver.exe', \n",
    "#     firefox_binary='C:/Program Files/Mozilla Firefox/firefox.exe'\n",
    "# )"
   ]
  },
  {
   "cell_type": "markdown",
   "id": "e09e3842",
   "metadata": {
    "id": "e09e3842"
   },
   "source": [
    "### Download the page ... again"
   ]
  },
  {
   "cell_type": "code",
   "execution_count": 52,
   "id": "b594e5be",
   "metadata": {
    "id": "b594e5be",
    "tags": [],
    "ExecuteTime": {
     "end_time": "2024-09-03T11:09:24.356494300Z",
     "start_time": "2024-09-03T11:09:16.177357100Z"
    }
   },
   "outputs": [],
   "source": [
    "from selenium.webdriver.common.by import By\n",
    "\n",
    "browser.get(\"https://www.ozon.ru/category/smartfony-15502/\")\n",
    "browser.implicitly_wait(5)  # wait for 10 seconds\n",
    "# element = browser.find_element_by_id(\"button\")\n",
    "# element.click()\n",
    "button = browser.find_element(By.ID, 'reload-button')  # Replace 'button-id' with the actual ID of the button\n",
    "\n",
    "# Click the button\n",
    "button.click()"
   ]
  },
  {
   "cell_type": "markdown",
   "id": "a738807e-8fca-4204-94da-79cb4f17e7d1",
   "metadata": {},
   "source": [
    "Now we have a browser that has downloaded the page for us!\n",
    "\n",
    "\n",
    "We want to know the price and the review score for some products (phone).\n",
    "First let's try selecting the elements that contains these phones."
   ]
  },
  {
   "cell_type": "code",
   "execution_count": 43,
   "id": "c8a9ef8f-6988-4aa6-b4cd-60e8a2b31976",
   "metadata": {
    "ExecuteTime": {
     "end_time": "2024-09-03T10:58:34.947123800Z",
     "start_time": "2024-09-03T10:58:21.003358900Z"
    }
   },
   "outputs": [
    {
     "name": "stdout",
     "output_type": "stream",
     "text": [
      "No data\n",
      "Name: Poco Смартфон M6 Pro 8/256 ГБ, фиолетовый\n",
      "Price: 19 563 ₽\n",
      "No data\n",
      "Name: Samsung Смартфон Galaxy A55 Global 8/128 ГБ, черный\n",
      "Price: 26 535 ₽\n",
      "No data\n",
      "Name: Xiaomi Смартфон Redmi Note 12 6/128 ГБ, зеленый\n",
      "Price: 13 439 ₽\n",
      "No data\n",
      "Name: Tecno Смартфон POVA 6 Pro 5G Ростест (EAC) 12/256 ГБ, черный\n",
      "Price: 21 255 ₽\n",
      "No data\n",
      "Name: ZUNYI Смартфон GT10 Plus, глобальная русская версия, сеть 4g, Android 14, две SIM-карты, 7,3 дюйма, подарок， ударопрочная и водонепроницаемая защита, мощные игровые функции, гибкая камера, длительное время автономной работы，Интерфейс Type-C Ростест (EAC) 6/128 ГБ, черный\n",
      "Price: 7 487 ₽\n",
      "No data\n",
      "Name: Tecno Смартфон Spark 20 Pro+ Ростест (EAC) 8/256 ГБ, черный матовый\n",
      "Price: 18 720 ₽\n",
      "No data\n",
      "Name: ZUNYI Смартфон Note 30i，Note 13 Pro，X6 Neo，Смартфон русской версии，сеть 4g，6,8 дюйма，две SIM-карты，ударопрочная и водонепроницаемая защита，длительное время автономной работы，мощные игровые функции，большой HD экран，сенсорный телефон，быстрая зарядка，отличный подарок,используется для Ростест (EAC) 8/256 ГБ, синий\n",
      "Price: 8 384 ₽\n",
      "No data\n",
      "Name: Tecno Смартфон CAMON 30 5G (8+256) Basaltic Dark Ростест (EAC) 8/256 ГБ, черный\n",
      "Price: 20 243 ₽\n",
      "No data\n",
      "Name: ZUNYI Смартфон Pove 5 Pro,Флагманский российский мобильный телефон；большим экраном диагональю 6,1 дюйма；сеть 4G；Матовая оболочка；высококачественные игры；досуг и развлечения；Android 12； большой объем памяти；Подарок на день рождения Ростест (EAC) 3/64 ГБ, синий\n",
      "Price: 4 806 ₽\n",
      "No data\n",
      "Name: ZUNYI Смартфон GT10 Plus, глобальная русская версия, сеть 4g, Android 14, две SIM-карты, 7,3 дюйма, подарок， ударопрочная и водонепроницаемая защита, мощные игровые функции, гибкая камера, длительное время автономной работы，Интерфейс Type-C Ростест (EAC) 6/128 ГБ, белый, серебристый\n",
      "Price: 7 487 ₽\n",
      "No data\n",
      "Name: HUAWEI Смартфон Pura 70 12/256 ГБ, черный\n",
      "Price: 48 510 ₽\n",
      "No data\n",
      "Name: SHOWJI Смартфон LLL@9S19 Pro-BK-01 Global 16/512 ГБ, черный матовый\n",
      "Price: 9 151 ₽\n",
      "No data\n",
      "Name: HUAWEI Смартфон nova 12i Ростест (EAC) 8/256 ГБ, зеленый\n",
      "Price: 14 549 ₽\n",
      "No data\n",
      "Name: ZUNYI Смартфон NOTE 30i Ростест (EAC) 8/128 ГБ, черный\n",
      "Price: 6 733 ₽\n",
      "No data\n",
      "Name: HUAWEI Смартфон nova Y72 Ростест (EAC) 8/128 ГБ, зеленый\n",
      "Price: 9 473 ₽\n",
      "No data\n",
      "Name: Xiaomi Смартфон Redmi 13C 4/128 ГБ, синий\n",
      "Price: 10 030 ₽\n",
      "No data\n",
      "Name: Tecno Смартфон Spark Go 2024 4/128 ГБ, зеленый\n",
      "Price: 7 255 ₽\n",
      "No data\n",
      "Name: realme Смартфон C51 4/128 ГБ, зеленый\n",
      "Price: 7 724 ₽\n",
      "No data\n",
      "Name: ZUNYI Смартфон Note 12 Pro,Флагманский российский мобильный телефон；большим экраном диагональю 6,1 дюйма；сеть 4G；Матовая оболочка；высококачественные игры；досуг и развлечения；Android 12； большой объем памяти；Подарок на день рождения Ростест (EAC) 6/128 ГБ, синий\n",
      "Price: 5 534 ₽\n",
      "No data\n",
      "Name: ZUNYI Смартфон Note13Pro, русская версия, сеть 4g, две SIM-карты, HD-экран, ударопрочная и водонепроницаемая защита, мощная игровая функция, гибкая камера, длительное время автономной работы, интерфейс Type-C, подарки для близких, подарки за подарки， Ростест (EAC) 6/128 ГБ, черный матовый\n",
      "Price: 8 568 ₽\n",
      "No data\n",
      "Name: ZUNYI Смартфон Note 12 Pro Ростест (EAC) 12/256 ГБ, черный\n",
      "Price: 8 100 ₽\n",
      "No data\n",
      "Name: Tecno Смартфон Spark go 2024 4/128 ГБ, белый\n",
      "Price: 7 403 ₽\n",
      "No data\n",
      "Name: Samsung Смартфон Galaxy A05 4/64 ГБ, черный\n",
      "Price: 8 540 ₽\n",
      "No data\n",
      "Name: Taplet Смартфон S24 Ultra Smartphone Dual SIM Dual Standby Ультра низкая цена Музыкальный мобильный телефон Игровой мобильный телефон HP Большая память Большая батарея Импортный чип EU 12/512 ГБ Global 12/512 ГБ, черный\n",
      "Price: 8 144 ₽\n",
      "No data\n",
      "Name: realme Смартфон 11 8/256 ГБ, золотой\n",
      "Price: 16 101 ₽\n",
      "No data\n",
      "Name: Xiaomi Смартфон Redmi Note 8 Pro 6/64 ГБ, черный\n",
      "Price: 8 479 ₽\n",
      "No data\n",
      "Name: ZUNYI Смартфон Note 14 Pro, глобальная русская версия, сеть 4g, две SIM-карты, Android 14, 6.8 дюйма, бесплатный стилус, ударопрочная и водонепроницаемая защита, мощные игровые функции, гибкая камера, длительное время автономной работы，Интерфейс Type-C Ростест (EAC) 6/128 ГБ, золотой\n",
      "Price: 8 193 ₽\n",
      "No data\n",
      "Name: ITEL Смартфон ITEL P55 128+8 Ростест (EAC) 8/128 ГБ, черный\n",
      "Price: 9 185 ₽\n",
      "No data\n",
      "Name: Poco Смартфон M6 Ростест (EAC) 8/256 ГБ, серебристый\n",
      "Price: 12 599 ₽\n",
      "No data\n",
      "Name: Tecno Смартфон POVA 6 Pro 12/256 ГБ, серый\n",
      "Price: 22 661 ₽\n",
      "No data\n",
      "Name: ZUNYI Смартфон Note 30i Ростест (EAC) Сверхбольшая память / HD - фотография / сверхдлинная батарея / высокоэнергетический процессор + бесплатные аксессуары/ Двойная карта с двойным ожиданием Ростест (EAC) 8/128 ГБ, черный, бронза\n",
      "Price: 7 448 ₽\n",
      "No data\n",
      "Name: ZUNYI Смартфон Note 30i，Note 13 Pro，X6 Neo，Смартфон русской версии，сеть 4g，6,8 дюйма，две SIM-карты，ударопрочная и водонепроницаемая защита，длительное время автономной работы，мощные игровые функции，большой HD экран，сенсорный телефон，быстрая зарядка，отличный подарок,используется для Ростест (EAC) 8/256 ГБ, фиолетовый\n",
      "Price: 8 598 ₽\n",
      "No data\n",
      "Name: Samsung Смартфон Galaxy A35 5G 8/128 ГБ, сиреневый\n",
      "Price: 23 804 ₽\n",
      "No data\n",
      "Name: GK Retail Смартфон SP3-90 Ростест (EAC) 16/1 ТБ, черный матовый\n",
      "Price: 7 012 ₽\n",
      "No data\n",
      "Name: HUAWEI Смартфон nova 12 SE Ростест (EAC) 8/256 ГБ, белый\n",
      "Price: 19 399 ₽\n",
      "No data\n",
      "Name: Смартфон GUSJI15-Black CN 16/1 ТБ, черный\n",
      "Price: 7 069 ₽\n"
     ]
    }
   ],
   "source": [
    "import time\n",
    "\n",
    "browser.execute_script(\"window.scrollBy(0, document.body.scrollHeight);\")  # Scroll down by 400 pixels\n",
    "browser.implicitly_wait(3)  # wait for 3 seconds\n",
    "time.sleep(3)\n",
    "browser.execute_script(\"window.scrollBy(0, document.body.scrollHeight);\")  # Scroll down by 400 pixels\n",
    "\n",
    "elements = browser.find_elements(By.CSS_SELECTOR, '.j4n_23')\n",
    "\n",
    "for element in elements:\n",
    "    try:\n",
    "        nested_span = element.find_element(By.CSS_SELECTOR, 'span.tsBody500Medium')\n",
    "        name = nested_span.text\n",
    "\n",
    "        price_span = element.find_element(By.CSS_SELECTOR, 'span.tsHeadline500Medium')\n",
    "        price = price_span.text\n",
    "\n",
    "        stars_span = element.find_elements(By.CSS_SELECTOR, 'span.q2')\n",
    "        try:\n",
    "            rating, reviews = stars_span[2], stars_span[3]\n",
    "            print('Rating ' + rating.text + 'Reviews ' + reviews)\n",
    "        except:\n",
    "            print(\"No data\")\n",
    "\n",
    "        print(f\"Name: {name}\")\n",
    "        print(f\"Price: {price}\")\n",
    "\n",
    "    except Exception as e:\n",
    "        print(f\"Error: {e}\")\n"
   ]
  },
  {
   "cell_type": "markdown",
   "id": "e23d7303-2eed-45fd-872a-a924869de998",
   "metadata": {},
   "source": [
    "### Next task \n",
    "- Navigate through the second page in the list\n",
    "- Select the first product among retrieved products (navigate)\n",
    "- print information about the product (О товаре)"
   ]
  },
  {
   "cell_type": "code",
   "execution_count": 66,
   "id": "f3bc6e7e-21e8-433e-bf6c-1608b4b41114",
   "metadata": {
    "ExecuteTime": {
     "end_time": "2024-09-03T11:32:37.430224800Z",
     "start_time": "2024-09-03T11:32:24.075458400Z"
    }
   },
   "outputs": [
    {
     "ename": "IndexError",
     "evalue": "list index out of range",
     "output_type": "error",
     "traceback": [
      "\u001B[1;31m---------------------------------------------------------------------------\u001B[0m",
      "\u001B[1;31mIndexError\u001B[0m                                Traceback (most recent call last)",
      "Cell \u001B[1;32mIn[66], line 27\u001B[0m\n\u001B[0;32m     24\u001B[0m product_descriptions \u001B[38;5;241m=\u001B[39m []\n\u001B[0;32m     26\u001B[0m \u001B[38;5;28;01mfor\u001B[39;00m i \u001B[38;5;129;01min\u001B[39;00m \u001B[38;5;28mrange\u001B[39m(\u001B[38;5;241m5\u001B[39m):\n\u001B[1;32m---> 27\u001B[0m     product \u001B[38;5;241m=\u001B[39m \u001B[43mproducts\u001B[49m\u001B[43m[\u001B[49m\u001B[43mi\u001B[49m\u001B[43m]\u001B[49m\n\u001B[0;32m     28\u001B[0m     product_link \u001B[38;5;241m=\u001B[39m product\u001B[38;5;241m.\u001B[39mfind_element(By\u001B[38;5;241m.\u001B[39mXPATH, \u001B[38;5;124m'\u001B[39m\u001B[38;5;124m.//a\u001B[39m\u001B[38;5;124m'\u001B[39m)\n\u001B[0;32m     29\u001B[0m     product_link\u001B[38;5;241m.\u001B[39mclick()\n",
      "\u001B[1;31mIndexError\u001B[0m: list index out of range"
     ]
    }
   ],
   "source": [
    "from selenium import webdriver\n",
    "from selenium.webdriver.common.by import By\n",
    "from selenium.webdriver.support.ui import WebDriverWait\n",
    "from selenium.webdriver.support import expected_conditions as EC\n",
    "import time\n",
    "\n",
    "\n",
    "browser.get(\"https://www.ozon.ru/category/smartfony-15502/\")\n",
    "browser.implicitly_wait(5)  # Initial wait\n",
    "\n",
    "browser.execute_script(\"window.scrollBy(0, document.body.scrollHeight);\")\n",
    "time.sleep(3)\n",
    "\n",
    "next_page_button = WebDriverWait(browser, 10).until(\n",
    "    EC.element_to_be_clickable((By.XPATH, '//a[contains(@href, \"page=2\")]'))  # Update XPath if needed\n",
    ")\n",
    "next_page_button.click()\n",
    "\n",
    "products = browser.find_elements(By.XPATH, '//div[contains(@class, \"j4n_23\")]')\n",
    "\n",
    "browser.execute_script(\"window.scrollBy(0, document.body.scrollHeight);\")\n",
    "time.sleep(3) \n",
    "\n",
    "product_descriptions = []\n",
    "\n",
    "for i in range(5):\n",
    "    product = products[i]\n",
    "    product_link = product.find_element(By.XPATH, './/a')\n",
    "    product_link.click()\n",
    "\n",
    "    WebDriverWait(browser, 20).until(\n",
    "        EC.presence_of_element_located((By.CSS_SELECTOR, '[data-widget=\"webShortCharacteristics\"]'))\n",
    "    )\n",
    "\n",
    "    product_details = browser.find_element(By.CSS_SELECTOR, '[data-widget=\"webShortCharacteristics\"]')\n",
    "    description = product_details.text\n",
    "    product_descriptions.append(description)\n",
    "\n",
    "    browser.back()\n",
    "\n",
    "    WebDriverWait(browser, 50).until(\n",
    "        EC.presence_of_all_elements_located((By.XPATH, '//div[contains(@class, \"j4n_23\")]'))\n",
    "    )\n",
    "    products = browser.find_elements(By.XPATH, '//div[contains(@class, \"j4n_23\")]')\n",
    "    \n",
    "    browser.execute_script(\"window.scrollBy(0, document.body.scrollHeight);\")\n",
    "    time.sleep(3) \n",
    "\n",
    "with open(\"product_descriptions.txt\", \"w\", encoding=\"utf-8\") as file:\n",
    "    for idx, description in enumerate(product_descriptions, start=1):\n",
    "        file.write(f\"Product {idx} Description:\\n{description}\\n\\n\")\n",
    "\n",
    "print(product_details.text)\n",
    "\n"
   ]
  }
 ],
 "metadata": {
  "colab": {
   "provenance": []
  },
  "kernelspec": {
   "display_name": "Python 3 (ipykernel)",
   "language": "python",
   "name": "python3"
  },
  "language_info": {
   "codemirror_mode": {
    "name": "ipython",
    "version": 3
   },
   "file_extension": ".py",
   "mimetype": "text/x-python",
   "name": "python",
   "nbconvert_exporter": "python",
   "pygments_lexer": "ipython3",
   "version": "3.11.5"
  }
 },
 "nbformat": 4,
 "nbformat_minor": 5
}
