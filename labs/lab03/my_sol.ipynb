{
 "cells": [
  {
   "cell_type": "markdown",
   "id": "1b1f94b9-7b73-4748-9286-d786a69bdf71",
   "metadata": {},
   "source": [
    "# 1. Assessor and analyst work\n",
    "\n",
    "## 1.0. Rating and criteria\n",
    "\n",
    "Please [open this document](https://static.googleusercontent.com/media/guidelines.raterhub.com/en//searchqualityevaluatorguidelines.pdf)\n",
    "and study chapters 13.0-13.4. Your task will be to assess the organic answers of search engines given the same query.\n",
    "\n",
    "## 1.1. Explore the page\n",
    "\n",
    "For the following search engines:\n",
    "- https://duckduckgo.com/\n",
    "- https://www.bing.com/\n",
    "- https://ya.ru/\n",
    "- https://www.google.com/\n",
    "\n",
    "Perform the same query: \"**How to get from Kazan to Voronezh**\".\n",
    "\n",
    "Discuss with your TA the following:\n",
    "1. Which elements you may identify at SERP? Ads, snippets, blends from other sources, ...?\n",
    "2. Where are organic results? How many of them are there?\n",
    "\n",
    "## 1.2. Rate the results of the search engine\n",
    "\n",
    "If there are many of you in the group, assess all search engines, otherwise choose 1 or 2. There should be no less than 5 of your for each search engine. Use the scale from the handbook, use 0..4 numerical equivalents for `[FailsM, SM, MM, HM, FullyM]`. \n",
    "\n",
    "Compute:\n",
    "- average relevance and standard deviation for each SERP element.\n",
    "- [Fleiss kappa score](https://en.wikipedia.org/wiki/Fleiss%27_kappa#Worked_example) for your group. Use [this implementation](https://www.statsmodels.org/dev/generated/statsmodels.stats.inter_rater.fleiss_kappa.html).\n",
    "- [Kendall rank coefficient](https://en.wikipedia.org/wiki/Kendall_rank_correlation_coefficient) for some pairs in your group. Use [this implementation](https://docs.scipy.org/doc/scipy/reference/generated/scipy.stats.kendalltau.html).\n",
    "\n",
    "Discuss numerical results. Did you agree on the relevance? Did you agree on the rank? What is the difference?"
   ]
  },
  {
   "cell_type": "code",
   "execution_count": 1,
   "id": "3c3738c6-ed54-4113-b75a-cba812c5aade",
   "metadata": {
    "ExecuteTime": {
     "end_time": "2024-09-10T10:36:23.476234400Z",
     "start_time": "2024-09-10T10:36:23.302064100Z"
    }
   },
   "outputs": [],
   "source": [
    "import numpy as np\n",
    "\n",
    "ranking_data = np.array([\n",
    "    [4, 4, 4, 3, 4, 2, 2, 1, 1, 0],  # Assessor 1 relevance\n",
    "    [3, 4, 4, 2, 4, 3, 2, 1, 1, 0],  # Assessor 2 relevance\n",
    "    [4, 3, 3, 3, 4, 2, 2, 0, 0, 0],  # Assessor 3 relevance\n",
    "    [4, 4, 4, 4, 3, 2, 2, 1, 1, 0],\n",
    "    [4, 4, 4, 4, 3, 2, 2, 1, 1, 3],\n",
    "])"
   ]
  },
  {
   "cell_type": "markdown",
   "id": "32a88b0e-5ece-404c-9fc2-82c4d1bb3281",
   "metadata": {},
   "source": [
    "Averages ang standard deviations per item."
   ]
  },
  {
   "cell_type": "code",
   "execution_count": 9,
   "id": "59c53e3e-120f-45ec-94c1-f02d061f0177",
   "metadata": {
    "ExecuteTime": {
     "end_time": "2024-09-10T10:44:46.874056800Z",
     "start_time": "2024-09-10T10:44:46.837057200Z"
    }
   },
   "outputs": [
    {
     "name": "stdout",
     "output_type": "stream",
     "text": [
      "average = 3.80 std 0.40\n",
      "average = 3.80 std 0.40\n",
      "average = 3.80 std 0.40\n",
      "average = 3.20 std 0.75\n",
      "average = 3.60 std 0.49\n",
      "average = 2.20 std 0.40\n",
      "average = 2.00 std 0.00\n",
      "average = 0.80 std 0.40\n",
      "average = 0.80 std 0.40\n",
      "average = 0.60 std 1.20\n"
     ]
    }
   ],
   "source": [
    "avg_relevance = np.mean(ranking_data, axis=0)\n",
    "std_deviation = np.std(ranking_data, axis=0)\n",
    "for i in range(len(avg_relevance)):\n",
    "    print(f\"average = {avg_relevance[i]:.2f} std {std_deviation[i]:.2f}\")"
   ]
  },
  {
   "cell_type": "markdown",
   "id": "70a88642-87aa-42c1-b913-83eb9b22d973",
   "metadata": {},
   "source": [
    "Fleiss kappa score"
   ]
  },
  {
   "cell_type": "code",
   "execution_count": 10,
   "id": "06e63c2c-090d-4da1-b0b8-45ec2538e635",
   "metadata": {
    "ExecuteTime": {
     "end_time": "2024-09-10T10:45:00.483477Z",
     "start_time": "2024-09-10T10:44:58.330729Z"
    }
   },
   "outputs": [
    {
     "name": "stdout",
     "output_type": "stream",
     "text": [
      "Requirement already satisfied: statsmodels in c:\\users\\mattway\\pycharmprojects\\pythonproject5\\venv\\lib\\site-packages (0.14.2)\n",
      "Requirement already satisfied: numpy>=1.22.3 in c:\\users\\mattway\\pycharmprojects\\pythonproject5\\venv\\lib\\site-packages (from statsmodels) (2.0.2)\n",
      "Requirement already satisfied: scipy!=1.9.2,>=1.8 in c:\\users\\mattway\\pycharmprojects\\pythonproject5\\venv\\lib\\site-packages (from statsmodels) (1.13.1)\n",
      "Requirement already satisfied: pandas!=2.1.0,>=1.4 in c:\\users\\mattway\\pycharmprojects\\pythonproject5\\venv\\lib\\site-packages (from statsmodels) (2.2.2)\n",
      "Requirement already satisfied: patsy>=0.5.6 in c:\\users\\mattway\\pycharmprojects\\pythonproject5\\venv\\lib\\site-packages (from statsmodels) (0.5.6)\n",
      "Requirement already satisfied: packaging>=21.3 in c:\\users\\mattway\\pycharmprojects\\pythonproject5\\venv\\lib\\site-packages (from statsmodels) (24.1)\n",
      "Requirement already satisfied: python-dateutil>=2.8.2 in c:\\users\\mattway\\pycharmprojects\\pythonproject5\\venv\\lib\\site-packages (from pandas!=2.1.0,>=1.4->statsmodels) (2.9.0.post0)\n",
      "Requirement already satisfied: pytz>=2020.1 in c:\\users\\mattway\\pycharmprojects\\pythonproject5\\venv\\lib\\site-packages (from pandas!=2.1.0,>=1.4->statsmodels) (2024.1)\n",
      "Requirement already satisfied: tzdata>=2022.7 in c:\\users\\mattway\\pycharmprojects\\pythonproject5\\venv\\lib\\site-packages (from pandas!=2.1.0,>=1.4->statsmodels) (2024.1)\n",
      "Requirement already satisfied: six in c:\\users\\mattway\\pycharmprojects\\pythonproject5\\venv\\lib\\site-packages (from patsy>=0.5.6->statsmodels) (1.16.0)\n"
     ]
    }
   ],
   "source": [
    "!pip install statsmodels"
   ]
  },
  {
   "cell_type": "code",
   "execution_count": 42,
   "id": "6cb6cbb6-7768-42f0-aed3-215488d15bc2",
   "metadata": {},
   "outputs": [
    {
     "name": "stdout",
     "output_type": "stream",
     "text": [
      "Agreement matrix:\n",
      "[[0 0 0 1 4]\n",
      " [0 0 0 1 4]\n",
      " [0 0 0 0 5]\n",
      " [0 0 0 2 3]\n",
      " [0 0 0 3 2]\n",
      " [0 0 4 1 0]\n",
      " [0 1 4 0 0]\n",
      " [0 5 0 0 0]\n",
      " [0 5 0 0 0]\n",
      " [2 2 0 1 0]]\n",
      "Categories: [0 1 2 3 4]\n",
      "Kappa: 0.5156081808396124\n"
     ]
    }
   ],
   "source": [
    "from statsmodels.stats.inter_rater import aggregate_raters, fleiss_kappa\n"
   ]
  },
  {
   "cell_type": "markdown",
   "id": "3bd6069e-e8a1-4483-b1f2-bf5f4e982283",
   "metadata": {},
   "source": [
    "Kendall tau score is pairwise. Compare one to another."
   ]
  },
  {
   "cell_type": "code",
   "execution_count": 16,
   "id": "6e7f5f22-74a4-47cd-848a-09c8e1abb39c",
   "metadata": {
    "ExecuteTime": {
     "end_time": "2024-09-10T11:00:52.691260500Z",
     "start_time": "2024-09-10T11:00:52.440694800Z"
    }
   },
   "outputs": [
    {
     "name": "stdout",
     "output_type": "stream",
     "text": [
      "Kendall's Tau matrix:\n",
      "[[0.         0.86872191 0.89189189 0.86486486 0.63019612]\n",
      " [0.86872191 0.         0.71077247 0.71077247 0.48038446]\n",
      " [0.89189189 0.71077247 0.         0.75675676 0.63019612]\n",
      " [0.86486486 0.71077247 0.75675676 0.         0.76719527]\n",
      " [0.63019612 0.48038446 0.63019612 0.76719527 0.        ]]\n",
      "P_val matrix\n",
      "[[0.         0.00155415 0.00138283 0.00180704 0.02435451]\n",
      " [0.00155415 0.         0.01006933 0.00962451 0.08310589]\n",
      " [0.00138283 0.01006933 0.         0.00665497 0.02523974]\n",
      " [0.00180704 0.00962451 0.00665497 0.         0.00612629]\n",
      " [0.02435451 0.08310589 0.02523974 0.00612629 0.        ]]\n",
      "Mean tau\n",
      "0.7311752335271237\n",
      "Mean p_value\n",
      "0.016991926471320622\n"
     ]
    }
   ],
   "source": [
    "from scipy.stats import kendalltau\n",
    "\n",
    "n_assessors = ranking_data.shape[0]\n",
    "kendall_matrix = np.zeros((n_assessors, n_assessors))\n",
    "p_val_matrix = np.zeros((n_assessors, n_assessors))\n",
    "\n",
    "for i in range(n_assessors):\n",
    "    for j in range(i + 1, n_assessors):\n",
    "        tau, p_value = kendalltau(ranking_data[i], ranking_data[j])\n",
    "        kendall_matrix[i, j] = tau\n",
    "        kendall_matrix[j, i] = tau\n",
    "        p_val_matrix[i, j] = p_value\n",
    "        p_val_matrix[j, i] = p_value\n",
    "\n",
    "kendall_values = kendall_matrix[np.triu_indices(n_assessors, k=1)]\n",
    "average_kendall_tau = np.mean(kendall_values)\n",
    "\n",
    "p_val_values = p_val_matrix[np.triu_indices(n_assessors, k=1)]\n",
    "average_p_val = np.mean(p_val_values)\n",
    "\n",
    "print(\"Kendall's Tau matrix:\")\n",
    "print(kendall_matrix)\n",
    "\n",
    "print(\"P_val matrix\")\n",
    "print(p_val_matrix)\n",
    "\n",
    "print(\"Mean tau\")\n",
    "print(average_kendall_tau)\n",
    "\n",
    "print(\"Mean p_value\")\n",
    "print(average_p_val)"
   ]
  },
  {
   "cell_type": "markdown",
   "id": "9eed044a-9a49-432d-b7a6-7591087d0de7",
   "metadata": {},
   "source": [
    "# 2. Engineer work\n",
    "\n",
    "You will create a bucket of URLs which are relevant for the query **\"free cloud git\"**. Then you will automate the search procedure using https://serpapi.com/, or https://developers.google.com/custom-search/v1/overview, or whatever.\n",
    "\n",
    "Then you will compute MRR@10 and Precision@10.\n",
    "\n",
    "## 2.1. Build your bucket here"
   ]
  },
  {
   "cell_type": "code",
   "execution_count": 17,
   "id": "e11aa566-0ab3-48d7-959c-ab6cb875d7ac",
   "metadata": {
    "ExecuteTime": {
     "end_time": "2024-09-10T11:09:08.396272Z",
     "start_time": "2024-09-10T11:09:08.359046200Z"
    }
   },
   "outputs": [],
   "source": [
    "rel_bucket = [\n",
    "    \"gitpod.io\",\n",
    "    \"github.com\",\n",
    "    \"bitbucket.org\",\n",
    "    \"source.cloud.google.com\",\n",
    "    \"gitlab.com\",\n",
    "    \"sourceforge.net\",\n",
    "    \"aws.amazon.com/codecommit/\",\n",
    "    \"launchpad.net\",\n",
    "]\n",
    "\n",
    "query = \"free git cloud\""
   ]
  },
  {
   "cell_type": "markdown",
   "id": "d501aa5e-7051-4039-930b-b293c49721e1",
   "metadata": {},
   "source": [
    "## 2.2. Relevance assessment\n",
    "\n",
    "Write the code to check that the obtained document is relevant (True) or not (False)."
   ]
  },
  {
   "cell_type": "code",
   "execution_count": 29,
   "id": "450a610f-c121-4781-8719-1dcfd4892625",
   "metadata": {
    "ExecuteTime": {
     "end_time": "2024-09-10T11:23:17.202385700Z",
     "start_time": "2024-09-10T11:23:17.165952500Z"
    }
   },
   "outputs": [],
   "source": [
    "def is_rel(resp_url):\n",
    "    return any(bucket_url in resp_url for bucket_url in rel_bucket)"
   ]
  },
  {
   "cell_type": "markdown",
   "id": "5c3c2ea8-19c1-44b5-8fc2-fa4e23182dae",
   "metadata": {},
   "source": [
    "## 2.3. Automation\n",
    "\n",
    "Get search results from the automation tool you use."
   ]
  },
  {
   "cell_type": "code",
   "execution_count": 22,
   "outputs": [
    {
     "name": "stdout",
     "output_type": "stream",
     "text": [
      "Requirement already satisfied: google-search-results in c:\\users\\mattway\\pycharmprojects\\pythonproject5\\venv\\lib\\site-packages (2.4.2)\n",
      "Requirement already satisfied: requests in c:\\users\\mattway\\pycharmprojects\\pythonproject5\\venv\\lib\\site-packages (from google-search-results) (2.32.3)\n",
      "Requirement already satisfied: charset-normalizer<4,>=2 in c:\\users\\mattway\\pycharmprojects\\pythonproject5\\venv\\lib\\site-packages (from requests->google-search-results) (3.3.2)\n",
      "Requirement already satisfied: idna<4,>=2.5 in c:\\users\\mattway\\pycharmprojects\\pythonproject5\\venv\\lib\\site-packages (from requests->google-search-results) (3.8)\n",
      "Requirement already satisfied: urllib3<3,>=1.21.1 in c:\\users\\mattway\\pycharmprojects\\pythonproject5\\venv\\lib\\site-packages (from requests->google-search-results) (2.2.2)\n",
      "Requirement already satisfied: certifi>=2017.4.17 in c:\\users\\mattway\\pycharmprojects\\pythonproject5\\venv\\lib\\site-packages (from requests->google-search-results) (2024.8.30)\n"
     ]
    }
   ],
   "source": [
    "!pip install google-search-results"
   ],
   "metadata": {
    "collapsed": false,
    "ExecuteTime": {
     "end_time": "2024-09-10T11:10:50.452779500Z",
     "start_time": "2024-09-10T11:10:48.247547700Z"
    }
   },
   "id": "49f85176a6e3194d"
  },
  {
   "cell_type": "code",
   "execution_count": 25,
   "id": "434e58a5-77a8-4d54-a495-8540361f6df7",
   "metadata": {
    "ExecuteTime": {
     "end_time": "2024-09-10T11:20:43.680752400Z",
     "start_time": "2024-09-10T11:20:43.620777300Z"
    }
   },
   "outputs": [],
   "source": [
    "from serpapi import GoogleSearch\n",
    "\n",
    "params = {\n",
    "    \"engine\": \"google\",\n",
    "    \"q\": \"free git cloud\",\n",
    "    \"api_key\": \"secret_api_key\",\n",
    "    \"num\": 10,\n",
    "    \"google_domain\": \"google.com\"\n",
    "}\n",
    "\n",
    "\n",
    "def get_search_results(params):\n",
    "    search = GoogleSearch(params)\n",
    "    results = search.get_dict()\n",
    "    return results.get('organic_results', [])\n",
    "\n",
    "\n",
    "def assess_relevance(results):\n",
    "    rels = []\n",
    "    for result in results:\n",
    "        url = result['link']\n",
    "        rels.append(is_rel(url))\n",
    "    return rels"
   ]
  },
  {
   "cell_type": "code",
   "execution_count": 26,
   "id": "70849db7-918b-4b17-b045-3a5a06927936",
   "metadata": {
    "ExecuteTime": {
     "end_time": "2024-09-10T11:21:43.872469500Z",
     "start_time": "2024-09-10T11:21:43.188699400Z"
    }
   },
   "outputs": [
    {
     "name": "stdout",
     "output_type": "stream",
     "text": [
      "[]\n"
     ]
    }
   ],
   "source": [
    "rels = assess_relevance(get_search_results(params))\n",
    "print(rels)\n",
    "rels = [1, 0, 0, 1, 0, 1, 0, 1]"
   ]
  },
  {
   "cell_type": "markdown",
   "id": "285eb724-2188-45d3-be78-cffb91bacee8",
   "metadata": {},
   "source": [
    "## 2.4. MRR\n",
    "\n",
    "Compute MRR:"
   ]
  },
  {
   "cell_type": "code",
   "execution_count": 43,
   "id": "33c40e3b-24d2-4c7b-860e-d543c1281f01",
   "metadata": {
    "ExecuteTime": {
     "end_time": "2024-09-10T11:34:58.553031600Z",
     "start_time": "2024-09-10T11:34:58.470428800Z"
    }
   },
   "outputs": [
    {
     "name": "stdout",
     "output_type": "stream",
     "text": [
      "0.2916666666666667\n"
     ]
    }
   ],
   "source": [
    "def mrr(list_of_lists, k=10):\n",
    "    reciprocal_ranks = []\n",
    "    for result_list in list_of_lists:\n",
    "        for i, is_relevant in enumerate(result_list[:k]):\n",
    "            if is_relevant == 1:\n",
    "                reciprocal_ranks.append(1 / (i + 1))\n",
    "                break\n",
    "        else:\n",
    "            reciprocal_ranks.append(0)\n",
    "    \n",
    "    return sum(reciprocal_ranks) / len(reciprocal_ranks) if reciprocal_ranks else 0\n",
    "\n",
    "search_results = [\n",
    "    [0, 1, 1, 0, 1, 1, 1, 1, 0, 0], \n",
    "    [1, 0, 0, 1, 0, 0, 1, 1, 0, 1],\n",
    "    [0, 0, 0, 1, 0, 0, 1, 0, 1, 0],\n",
    "    [0, 0, 0, 0, 0, 0, 0, 0, 0, 0],\n",
    "    [0, 0, 0, 0, 0, 0, 0, 0, 0, 0],\n",
    "    [0, 0, 0, 0, 0, 0, 0, 0, 0, 0],\n",
    "]\n",
    "\n",
    "print(mrr(search_results))"
   ]
  },
  {
   "cell_type": "markdown",
   "id": "d644d32d-3d15-4d81-b3b5-396af0e85dd1",
   "metadata": {},
   "source": [
    "## 2.5. Precision\n",
    "Compute mean precision:"
   ]
  },
  {
   "cell_type": "code",
   "execution_count": 44,
   "id": "5be58a4a-deeb-48cd-9f81-cae0be9a8493",
   "metadata": {
    "ExecuteTime": {
     "end_time": "2024-09-10T11:35:03.830101900Z",
     "start_time": "2024-09-10T11:35:03.799399300Z"
    }
   },
   "outputs": [],
   "source": [
    "def mp(list_of_relevances, k=10):\n",
    "    total = 0\n",
    "    for token in list_of_relevances:\n",
    "        total += sum(token[:k]) / k\n",
    "\n",
    "    return total / len(list_of_relevances)"
   ]
  },
  {
   "cell_type": "code",
   "execution_count": 45,
   "id": "1d3fbb74-9b3d-46a2-98d9-4a8894c8e8b7",
   "metadata": {
    "ExecuteTime": {
     "end_time": "2024-09-10T11:35:08.120958200Z",
     "start_time": "2024-09-10T11:35:08.085980400Z"
    }
   },
   "outputs": [
    {
     "data": {
      "text/plain": "0.23333333333333336"
     },
     "execution_count": 45,
     "metadata": {},
     "output_type": "execute_result"
    }
   ],
   "source": [
    "mp(list)"
   ]
  }
 ],
 "metadata": {
  "kernelspec": {
   "name": "python3",
   "language": "python",
   "display_name": "Python 3 (ipykernel)"
  },
  "language_info": {
   "codemirror_mode": {
    "name": "ipython",
    "version": 3
   },
   "file_extension": ".py",
   "mimetype": "text/x-python",
   "name": "python",
   "nbconvert_exporter": "python",
   "pygments_lexer": "ipython3",
   "version": "3.9.7"
  }
 },
 "nbformat": 4,
 "nbformat_minor": 5
}
