{
  "cells": [
    {
      "cell_type": "markdown",
      "id": "f70e56cb-00be-49e1-869a-deac83bac346",
      "metadata": {
        "id": "f70e56cb-00be-49e1-869a-deac83bac346"
      },
      "source": [
        "# Essential skill for the Internet crawling\n",
        "\n",
        "## Regular expressions\n",
        "\n",
        "Regular expressions (aka regex, regexp) are used to search for patterns. Machine-readable languages often have regualar structure (not always), or at least are non-ambiguous.\n",
        "\n",
        "Obvious way is, of course, to let machine parse the document and then process the result (as in the previous lab). But this often result in additinal depenencies and significant memory and time overhead (which is ok for a single document, but won't work for millions).\n",
        "\n",
        "### Simple examples"
      ]
    },
    {
      "cell_type": "code",
      "execution_count": null,
      "id": "1be93130-a7a5-4f2d-9172-1bccf1d87123",
      "metadata": {
        "colab": {
          "base_uri": "https://localhost:8080/"
        },
        "id": "1be93130-a7a5-4f2d-9172-1bccf1d87123",
        "outputId": "5b3d4938-5b46-45ba-f298-44771344541d"
      },
      "outputs": [
        {
          "output_type": "stream",
          "name": "stdout",
          "text": [
            "\\w+: ['we', 'have', 'only', '5', 'do11ars', 'This', 'amount', 'of', 'is', 'small', 'How', 'should', 'we', 'sur', 'vive']\n",
            "\n",
            "\\w*: ['we', '', 'have', '', 'only', '', '5', '', 'do11ars', '', '', 'This', '', 'amount', '', 'of', '', '', '', 'is', '', 'small', '', '', 'How', '', 'should', '', 'we', '', 'sur', '', 'vive', '', '']\n",
            "\n",
            "[\\w\\-]+: ['we', 'have', 'only', '5', 'do11ars', 'This', 'amount', 'of', 'is', 'small', 'How', 'should', 'we', 'sur-vive']\n",
            "\n",
            "[0-9a-zA-Z\\-]+: ['we', 'have', 'only', '5', 'do11ars', 'This', 'amount', 'of', 'is', 'small', 'How', 'should', 'we', 'sur-vive']\n",
            "\n",
            ".+: ['we have only 5 do11ars. This amount of $ is small. How should we sur-vive?']\n",
            "\n",
            "\\S+: ['we', 'have', 'only', '5', 'do11ars.', 'This', 'amount', 'of', '$', 'is', 'small.', 'How', 'should', 'we', 'sur-vive?']\n",
            "\n",
            "\\W+: [' ', ' ', ' ', ' ', '. ', ' ', ' ', ' $ ', ' ', '. ', ' ', ' ', ' ', '-', '?']\n"
          ]
        }
      ],
      "source": [
        "import re\n",
        "string = \"we have only 5 do11ars. This amount of $ is small. How should we sur-vive?\"\n",
        "\n",
        "# all alphanumerics\n",
        "pattern = \"\\w+\"\n",
        "print(pattern, end=\": \")\n",
        "print(re.findall(pattern, string))\n",
        "print()\n",
        "\n",
        "pattern = \"\\w*\"\n",
        "print(pattern, end=\": \")\n",
        "print(re.findall(pattern, string))\n",
        "print()\n",
        "\n",
        "# all alphanumerics but also with hyphen\n",
        "pattern = \"[\\w\\-]+\"\n",
        "print(pattern, end=\": \")\n",
        "print(re.findall(pattern, string))\n",
        "print()\n",
        "\n",
        "# the same but using explicit character enumeration\n",
        "pattern = \"[0-9a-zA-Z\\-]+\" # explicit\n",
        "print(pattern, end=\": \")\n",
        "print(re.findall(pattern, string))\n",
        "print()\n",
        "\n",
        "pattern = \".+\"\n",
        "print(pattern, end=\": \")\n",
        "print(re.findall(pattern, string))\n",
        "print()\n",
        "\n",
        "# non-spaces, not the same as \\w !\n",
        "pattern = \"\\S+\"\n",
        "print(pattern, end=\": \")\n",
        "print(re.findall(pattern, string))\n",
        "print()\n",
        "\n",
        "\n",
        "# discuss this pattern\n",
        "pattern = \"\\W+[a-z]+\\-[a-z]+.$\"\n",
        "print(pattern, end=\": \")\n",
        "print(re.findall(pattern, string))"
      ]
    },
    {
      "cell_type": "markdown",
      "id": "cbd60467-c31a-4977-af18-a77862cf60aa",
      "metadata": {
        "id": "cbd60467-c31a-4977-af18-a77862cf60aa"
      },
      "source": [
        "### Find URLs/URIs vs parse the doc\n",
        "\n",
        "Instead of building DOM model and extracting `href` and `src` attributes, you may rely on the structure of the url itself. Extact all URLs from [the page](https://math.stackexchange.com/questions/411486/understanding-the-singular-value-decomposition-svd) with regexp. You major tool is [re.findall(...)](https://docs.python.org/3/library/re.html#). You may also be interested in compiled regular rexpression (if you reuse one)."
      ]
    },
    {
      "cell_type": "code",
      "execution_count": null,
      "id": "a6312c41-143c-4d38-af65-0ad9652caab7",
      "metadata": {
        "colab": {
          "base_uri": "https://localhost:8080/"
        },
        "id": "a6312c41-143c-4d38-af65-0ad9652caab7",
        "outputId": "f60fa5f0-a672-48e3-9410-3ab99799261a"
      },
      "outputs": [
        {
          "output_type": "stream",
          "name": "stdout",
          "text": [
            "\n",
            "(?:([A-Za-z]+):)?(\\/{0,3})([0-9.\\-A-Za-z]+)(?::(\\d+))?(?:\\/([^?#]*))?(?:\\?([^#]*))?(?:#(.*))?\n",
            "[('', '', 'DOCTYPE', '', '', '', ''), ('', '', 'html', '', '', '', ''), ('', '', 'html', '', '', '', ''), ('', '', 'itemscope', '', '', '', ''), ('', '', 'itemtype', '', '', '', ''), ('https', '//', 'schema.org', '', 'QAPage\" class=\"html__responsive \" lang=\"en\">\\n\\n    <head>\\n\\n        <title>linear algebra - Understanding the singular value decomposition (SVD) - Mathematics Stack Exchange</title>\\n        <link rel=\"shortcut icon\" href=\"https://cdn.sstatic.net/Sites/math/Img/favicon.ico', 'v=92addaa54d18\">\\n        <link rel=\"apple-touch-icon\" href=\"https://cdn.sstatic.net/Sites/math/Img/apple-touch-icon.png?v=0ae50baa40ed\">\\n        <link rel=\"image_src\" href=\"https://cdn.sstatic.net/Sites/math/Img/apple-touch-icon.png?v=0ae50baa40ed\"> \\n        <link rel=\"search\" type=\"application/opensearchdescription+xml\" title=\"Mathematics Stack Exchange\" href=\"/opensearch.xml\">\\n        <link rel=\"canonical\" href=\"https://math.stackexchange.com/questions/411486/understanding-the-singular-value-decomposition-svd\" />\\n    <meta name=\"viewport\" content=\"width=device-width, height=device-height, initial-scale=1.0, minimum-scale=1.0\">\\n        <meta name=\"bingbot\" content=\"noarchive\">         \\n        <meta property=\"og:type\" content= \"website\" />\\n        <meta property=\"og:url\" content=\"https://math.stackexchange.com/questions/411486/understanding-the-singular-value-decomposition-svd\"/>\\n        <meta property=\"og:site_name\" content=\"Mathematics Stack Exchange\" />\\n        <meta property=\"og:image\" itemprop=\"image primaryImageOfPage\" content=\"https://cdn.sstatic.net/Sites/math/Img/apple-touch-icon@2.png?v=4ec1df2e49b1\" />\\n        <meta name=\"twitter:card\" content=\"summary\"/>\\n        <meta name=\"twitter:domain\" content=\"math.stackexchange.com\"/>\\n        <meta name=\"twitter:title\" property=\"og:title\" itemprop=\"name\" content=\"Understanding the singular value decomposition (SVD)\" />\\n        <meta name=\"twitter:description\" property=\"og:description\" itemprop=\"description\" content=\"Please, would someone be so kind and explain what exactly happens when Singular Value Decomposition is applied on a matrix? What are singular values, left singular, and right singular vectors? I know \" />\\n    <script id=\"webpack-public-path\" type=\"text/uri-list\">https://cdn.sstatic.net/</script>\\n    <script src=\"https://ajax.googleapis.com/ajax/libs/jquery/3.7.1/jquery.min.js\"></script><script src=\"https://code.jquery.com/jquery-migrate-3.4.1.min.js\"></script>\\n    <script defer src=\"https://cdn.sstatic.net/Js/third-party/npm/@stackoverflow/stacks/dist/js/stacks.min.js?v=d5f780ae3281\"></script>\\n    <script src=\"https://cdn.sstatic.net/Js/stub.en.js?v=01af928a07d1\"></script>\\n\\n    <link rel=\"stylesheet\" type=\"text/css\" href=\"https://cdn.sstatic.net/Shared/stacks.css?v=619122b796ae\">\\n    <link rel=\"stylesheet\" type=\"text/css\" href=\"https://cdn.sstatic.net/Sites/math/primary.css?v=992ca5aac36e\">\\n\\n\\n    \\n            <link rel=\"alternate\" type=\"application/atom+xml\" title=\"Feed for question &', 'x27;Understanding the singular value decomposition (SVD)&#x27;\" href=\"/feeds/question/411486\">'), ('', '', 'script', '', '', '', ''), ('', '', 'StackExchange.ready', '', '', '', ''), ('', '', 'function', '', '', '', ''), ('', '', 'StackExchange.using', '', '', '', '')]\n",
            "\n",
            "(www|http:|https:)+[^\\s]+[\\w]\n",
            "['https:', 'https:', 'https:', 'https:', 'https:', 'https:', 'https:', 'https:', 'https:', 'https:']\n",
            "\n",
            "https?:\\/\\/(www\\.)?[-a-zA-Z0-9@:%._\\+~#=]{1,256}\\.[a-zA-Z0-9()]{1,6}\b([-a-zA-Z0-9()@:%_\\+.~#?&//=]*)\n",
            "[]\n",
            "\n",
            "[-a-zA-Z0-9@:%._\\+~#=]{1,256}\\.[a-zA-Z0-9()]{1,6}\b([-a-zA-Z0-9()@:%_\\+.~#?&//=]*)?\n",
            "[]\n",
            "\n",
            "(https?:\\/\\/(?:www\\.|(?!www))[a-zA-Z0-9][a-zA-Z0-9-]+[a-zA-Z0-9]\\.[^\\s]{2,}|www\\.[a-zA-Z0-9][a-zA-Z0-9-]+[a-zA-Z0-9]\\.[^\\s]{2,}|https?:\\/\\/(?:www\\.|(?!www))[a-zA-Z0-9]+\\.[^\\s]{2,}|www\\.[a-zA-Z0-9]+\\.[^\\s]{2,})\n",
            "['https://schema.org/QAPage\"', 'https://cdn.sstatic.net/Sites/math/Img/favicon.ico?v=92addaa54d18\">', 'https://cdn.sstatic.net/Sites/math/Img/apple-touch-icon.png?v=0ae50baa40ed\">', 'https://cdn.sstatic.net/Sites/math/Img/apple-touch-icon.png?v=0ae50baa40ed\">', 'https://math.stackexchange.com/questions/411486/understanding-the-singular-value-decomposition-svd\"', 'https://math.stackexchange.com/questions/411486/understanding-the-singular-value-decomposition-svd\"/>', 'https://cdn.sstatic.net/Sites/math/Img/apple-touch-icon@2.png?v=4ec1df2e49b1\"', 'https://cdn.sstatic.net/</script>', 'https://ajax.googleapis.com/ajax/libs/jquery/3.7.1/jquery.min.js\"></script><script', 'https://code.jquery.com/jquery-migrate-3.4.1.min.js\"></script>']\n",
            "\n",
            "(?!mailto:)(?:(?:http|https|ftp)://)(?:\\S+(?::\\S*)?@)?(?:(?:(?:[1-9]\\d?|1\\d\\d|2[01]\\d|22[0-3])(?:\\.(?:1?\\d{1,2}|2[0-4]\\d|25[0-5])){2}(?:\\.(?:[0-9]\\d?|1\\d\\d|2[0-4]\\d|25[0-4]))|(?:(?:[a-z\\u00a1-\\uffff0-9]+-?)*[a-z\\u00a1-\\uffff0-9]+)(?:\\.(?:[a-z\\u00a1-\\uffff0-9]+-?)*[a-z\\u00a1-\\uffff0-9]+)*(?:\\.(?:[a-z\\u00a1-\\uffff]{2,})))|localhost)(?::\\d{2,5})?(?:(/|\\?|#)[^\\s]*)?\n",
            "['/', '/', '/', '/', '/', '/', '?', '/', '/', '/']\n",
            "\n",
            "https?:\\/\\/(?:www\\.)?[-a-zA-Z0-9@:%._\\+~#=]{1,256}\\.[a-zA-Z0-9()]{1,6}\b(?:[-a-zA-Z0-9()@:%_\\+.~#?&\\/=]*)\n",
            "[]\n"
          ]
        }
      ],
      "source": [
        "import re\n",
        "import requests\n",
        "\n",
        "url = \"https://math.stackexchange.com/questions/\"\\\n",
        "        \"411486/understanding-the-singular-value-decomposition-svd\"\n",
        "\n",
        "text = requests.get(url).text\n",
        "\n",
        "# my inspiration -\n",
        "# I took some example URL regexp from the internet,\n",
        "# specifically from here:\n",
        "# https://stackoverflow.com/questions/3809401/what-is-a-good-regular-expression-to-match-a-url\n",
        "expressions = [\n",
        "    \"(?:([A-Za-z]+):)?(\\/{0,3})([0-9.\\-A-Za-z]+)(?::(\\d+))?(?:\\/([^?#]*))?(?:\\?([^#]*))?(?:#(.*))?\",\n",
        "    \"(www|http:|https:)+[^\\s]+[\\w]\",\n",
        "    \"https?:\\/\\/(www\\.)?[-a-zA-Z0-9@:%._\\+~#=]{1,256}\\.[a-zA-Z0-9()]{1,6}\\b([-a-zA-Z0-9()@:%_\\+.~#?&//=]*)\",\n",
        "    \"[-a-zA-Z0-9@:%._\\+~#=]{1,256}\\.[a-zA-Z0-9()]{1,6}\\b([-a-zA-Z0-9()@:%_\\+.~#?&//=]*)?\",\n",
        "    \"(https?:\\/\\/(?:www\\.|(?!www))[a-zA-Z0-9][a-zA-Z0-9-]+[a-zA-Z0-9]\\.[^\\s]{2,}|www\\.[a-zA-Z0-9][a-zA-Z0-9-]+[a-zA-Z0-9]\\.[^\\s]{2,}|https?:\\/\\/(?:www\\.|(?!www))[a-zA-Z0-9]+\\.[^\\s]{2,}|www\\.[a-zA-Z0-9]+\\.[^\\s]{2,})\",\n",
        "    \"(?!mailto:)(?:(?:http|https|ftp)://)(?:\\\\S+(?::\\\\S*)?@)?(?:(?:(?:[1-9]\\\\d?|1\\\\d\\\\d|2[01]\\\\d|22[0-3])(?:\\\\.(?:1?\\\\d{1,2}|2[0-4]\\\\d|25[0-5])){2}(?:\\\\.(?:[0-9]\\\\d?|1\\\\d\\\\d|2[0-4]\\\\d|25[0-4]))|(?:(?:[a-z\\\\u00a1-\\\\uffff0-9]+-?)*[a-z\\\\u00a1-\\\\uffff0-9]+)(?:\\\\.(?:[a-z\\\\u00a1-\\\\uffff0-9]+-?)*[a-z\\\\u00a1-\\\\uffff0-9]+)*(?:\\\\.(?:[a-z\\\\u00a1-\\\\uffff]{2,})))|localhost)(?::\\\\d{2,5})?(?:(/|\\\\?|#)[^\\\\s]*)?\",\n",
        "    \"https?:\\/\\/(?:www\\.)?[-a-zA-Z0-9@:%._\\+~#=]{1,256}\\.[a-zA-Z0-9()]{1,6}\\b(?:[-a-zA-Z0-9()@:%_\\+.~#?&\\/=]*)\",\n",
        "]\n",
        "\n",
        "for expression in expressions:\n",
        "    print()\n",
        "    pattern = re.compile(expression)\n",
        "    urls = pattern.findall(text)\n",
        "    print(expression)\n",
        "    print(urls[:10])"
      ]
    },
    {
      "cell_type": "markdown",
      "id": "63197434-4483-4d3c-ae0f-0dfb91f396b7",
      "metadata": {
        "id": "63197434-4483-4d3c-ae0f-0dfb91f396b7"
      },
      "source": [
        "Was this success?\n",
        "\n",
        "Compose your own minimalistic:"
      ]
    },
    {
      "cell_type": "code",
      "execution_count": null,
      "id": "d2055e8c-20d1-4cfe-9229-0f22a24183fb",
      "metadata": {
        "colab": {
          "base_uri": "https://localhost:8080/"
        },
        "id": "d2055e8c-20d1-4cfe-9229-0f22a24183fb",
        "outputId": "d888eee7-53ee-422d-9da7-cb0d5a6ed43e"
      },
      "outputs": [
        {
          "output_type": "stream",
          "name": "stdout",
          "text": [
            "['https://schema.org/QAPage', 'https://cdn.sstatic.net/Sites/math/Img/favicon.ico?v=92addaa54d18', 'https://cdn.sstatic.net/Sites/math/Img/apple-touch-icon.png?v=0ae50baa40ed', 'https://cdn.sstatic.net/Sites/math/Img/apple-touch-icon.png?v=0ae50baa40ed', 'https://math.stackexchange.com/questions/411486/understanding-the-singular-value-decomposition-svd', 'https://math.stackexchange.com/questions/411486/understanding-the-singular-value-decomposition-svd', 'https://cdn.sstatic.net/Sites/math/Img/apple-touch-icon', 'https://cdn.sstatic.net/', 'https://ajax.googleapis.com/ajax/libs/jquery/3.7.1/jquery.min.js', 'https://code.jquery.com/jquery-migrate-3.4.1.min.js', 'https://cdn.sstatic.net/Js/third-party/npm/', 'https://cdn.sstatic.net/Js/stub.en.js?v=01af928a07d1', 'https://cdn.sstatic.net/Shared/stacks.css?v=619122b796ae', 'https://cdn.sstatic.net/Sites/math/primary.css?v=992ca5aac36e', 'https://cdn.sstatic.net/Shared/Channels/channels.css?v=5981bb1a5bd7', 'https://cdn.sstatic.net/Js/third-party/citation-helper.js?v=4664e10d5b5c', 'https://cdnjs.cloudflare.com/ajax/libs/mathjax/2.7.5/MathJax.js?config=TeX-AMS_HTML-full', 'https://stackauth.com', 'https://math.meta.stackexchange.com', 'https://ajax.googleapis.com/ajax/libs/jqueryui/1.12.0/themes/smoothness/jquery-ui.css']\n"
          ]
        }
      ],
      "source": [
        "import re\n",
        "import requests\n",
        "\n",
        "url = \"https://math.stackexchange.com/questions/\"\\\n",
        "        \"411486/understanding-the-singular-value-decomposition-svd\"\n",
        "\n",
        "text = requests.get(url).text\n",
        "protocol = \"https?://\"\n",
        "domain = \"[\\w\\.-]+\"\n",
        "path = \"[/\\w\\-\\.]*\"\n",
        "args =  \"(?:\\?[\\w\\=&-_;\\[\\]]*)?\"\n",
        "hashtail = \"(?:#[\\w$%-_;]+)?\"\n",
        "\n",
        "expression = protocol + domain + path + args + hashtail\n",
        "pattern = re.compile(expression)\n",
        "regexp_urls = pattern.findall(text)\n",
        "print(regexp_urls[:20])"
      ]
    },
    {
      "cell_type": "markdown",
      "id": "d2174daf-3ea2-4622-89d2-751aed1e29b9",
      "metadata": {
        "id": "d2174daf-3ea2-4622-89d2-751aed1e29b9"
      },
      "source": [
        "# Streams and files\n",
        "\n",
        "When you deal with the big files you should take care about the RAM. Today 1GB won't suprise anyone on the desktop, but server machines, which implement crawlers, may be optimized for the resource.\n",
        "\n",
        "Using streams instead of RAM-cached files is a good strategy.\n",
        "\n",
        "- Look for solution here: https://stackoverflow.com/a/16696317\n",
        "- Look for the sample big file here: http://xcal1.vodafone.co.uk/\n",
        "- Read about python memory measurement here: https://pythonspeed.com/articles/measuring-memory-python/"
      ]
    },
    {
      "cell_type": "code",
      "execution_count": null,
      "id": "c819e5ad-2c3e-43b1-a45c-2c1db556e4d9",
      "metadata": {
        "id": "c819e5ad-2c3e-43b1-a45c-2c1db556e4d9"
      },
      "outputs": [],
      "source": [
        "import psutil, gc\n",
        "\n",
        "def get_mem():\n",
        "    return psutil.Process().memory_info().rss"
      ]
    },
    {
      "cell_type": "code",
      "execution_count": null,
      "id": "3d45cfdf-661e-47bb-a2c1-336b7d091a53",
      "metadata": {
        "id": "3d45cfdf-661e-47bb-a2c1-336b7d091a53"
      },
      "outputs": [],
      "source": [
        "large_file_url = \"http://212.183.159.230/100MB.zip\""
      ]
    },
    {
      "cell_type": "markdown",
      "id": "5c447d2f-383b-4d5e-ad83-67feab474dec",
      "metadata": {
        "id": "5c447d2f-383b-4d5e-ad83-67feab474dec"
      },
      "source": [
        "First, download the file as you would do it simple way:"
      ]
    },
    {
      "cell_type": "code",
      "execution_count": null,
      "id": "77d31dd2-b334-4d77-820e-ed78b81ad5c4",
      "metadata": {
        "id": "77d31dd2-b334-4d77-820e-ed78b81ad5c4"
      },
      "outputs": [],
      "source": [
        "gc.collect()\n",
        "print(\"Resident set size:\", get_mem())\n",
        "data = requests.get(large_file_url).content\n",
        "print(\"Resident set size:\", get_mem())\n",
        "\n",
        "with open('100-RAM', 'wb') as f:\n",
        "    f.write(data)\n",
        "\n",
        "print(\"Resident set size:\", get_mem())\n",
        "data = None\n",
        "gc.collect()\n",
        "print(\"Resident set size:\", get_mem())"
      ]
    },
    {
      "cell_type": "markdown",
      "id": "05ad622c-6821-467d-8f9d-6269fed14097",
      "metadata": {
        "id": "05ad622c-6821-467d-8f9d-6269fed14097"
      },
      "source": [
        "And then use the streaming mode of the `requests` library."
      ]
    },
    {
      "cell_type": "code",
      "execution_count": null,
      "id": "0f20b4eb-a60c-4be1-910e-c029bdf4cb2c",
      "metadata": {
        "colab": {
          "base_uri": "https://localhost:8080/"
        },
        "id": "0f20b4eb-a60c-4be1-910e-c029bdf4cb2c",
        "outputId": "5dd3d35c-0791-41f3-b917-bedf0bce912b"
      },
      "outputs": [
        {
          "output_type": "stream",
          "name": "stdout",
          "text": [
            "Resident set size: 111624192\n",
            "Resident set size: 111624192\n"
          ]
        }
      ],
      "source": [
        "import requests\n",
        "import shutil\n",
        "\n",
        "def download_file(url, destination):\n",
        "    with requests.get(url, stream=True)\n",
        "    ...\n",
        "gc.collect()\n",
        "print(\"Resident set size:\", get_mem())\n",
        "download_file(large_file_url, \"100-stream\")\n",
        "print(\"Resident set size:\", get_mem())"
      ]
    },
    {
      "cell_type": "markdown",
      "id": "b02814d2-da81-40c6-baa2-a1453626df3a",
      "metadata": {
        "id": "b02814d2-da81-40c6-baa2-a1453626df3a"
      },
      "source": [
        "# BeautifulSoup\n",
        "\n",
        "Plain text HTML is a mixture of content, markup, and code. Extracting structure, or URLs, or plain text might be tricky with regular expressions.\n",
        "\n",
        "Building a DOM model is slow, but may save a lot of code and keep you from mistakes.\n",
        "\n",
        "## Extract all sentences\n",
        "For indexing and semantic analysis we use different granularity. Often sentence is a good choice."
      ]
    },
    {
      "cell_type": "code",
      "execution_count": null,
      "id": "186a793c-39ea-463d-8106-b719e4de3e33",
      "metadata": {
        "colab": {
          "base_uri": "https://localhost:8080/",
          "height": 758
        },
        "id": "186a793c-39ea-463d-8106-b719e4de3e33",
        "outputId": "d07b7700-b8ad-4df0-e88f-8c206fee49a3"
      },
      "outputs": [
        {
          "output_type": "error",
          "ename": "LookupError",
          "evalue": "\n**********************************************************************\n  Resource \u001b[93mpunkt\u001b[0m not found.\n  Please use the NLTK Downloader to obtain the resource:\n\n  \u001b[31m>>> import nltk\n  >>> nltk.download('punkt')\n  \u001b[0m\n  For more information see: https://www.nltk.org/data.html\n\n  Attempted to load \u001b[93mtokenizers/punkt/PY3/english.pickle\u001b[0m\n\n  Searched in:\n    - '/root/nltk_data'\n    - '/usr/nltk_data'\n    - '/usr/share/nltk_data'\n    - '/usr/lib/nltk_data'\n    - '/usr/share/nltk_data'\n    - '/usr/local/share/nltk_data'\n    - '/usr/lib/nltk_data'\n    - '/usr/local/lib/nltk_data'\n    - ''\n**********************************************************************\n",
          "traceback": [
            "\u001b[0;31m---------------------------------------------------------------------------\u001b[0m",
            "\u001b[0;31mLookupError\u001b[0m                               Traceback (most recent call last)",
            "\u001b[0;32m<ipython-input-20-75671effe8a5>\u001b[0m in \u001b[0;36m<cell line: 14>\u001b[0;34m()\u001b[0m\n\u001b[1;32m     13\u001b[0m \u001b[0msents\u001b[0m \u001b[0;34m=\u001b[0m \u001b[0;34m[\u001b[0m\u001b[0;34m]\u001b[0m\u001b[0;34m\u001b[0m\u001b[0;34m\u001b[0m\u001b[0m\n\u001b[1;32m     14\u001b[0m \u001b[0;32mfor\u001b[0m \u001b[0mp\u001b[0m \u001b[0;32min\u001b[0m \u001b[0mparagraphs\u001b[0m\u001b[0;34m:\u001b[0m\u001b[0;34m\u001b[0m\u001b[0;34m\u001b[0m\u001b[0m\n\u001b[0;32m---> 15\u001b[0;31m     \u001b[0msents\u001b[0m\u001b[0;34m.\u001b[0m\u001b[0mextend\u001b[0m\u001b[0;34m(\u001b[0m\u001b[0mnltk\u001b[0m\u001b[0;34m.\u001b[0m\u001b[0mtokenize\u001b[0m\u001b[0;34m.\u001b[0m\u001b[0msent_tokenize\u001b[0m\u001b[0;34m(\u001b[0m\u001b[0mp\u001b[0m\u001b[0;34m)\u001b[0m\u001b[0;34m)\u001b[0m\u001b[0;34m\u001b[0m\u001b[0;34m\u001b[0m\u001b[0m\n\u001b[0m\u001b[1;32m     16\u001b[0m \u001b[0;34m\u001b[0m\u001b[0m\n\u001b[1;32m     17\u001b[0m \u001b[0mprint\u001b[0m\u001b[0;34m(\u001b[0m\u001b[0msents\u001b[0m\u001b[0;34m[\u001b[0m\u001b[0;36m90\u001b[0m\u001b[0;34m:\u001b[0m\u001b[0;36m100\u001b[0m\u001b[0;34m]\u001b[0m\u001b[0;34m)\u001b[0m\u001b[0;34m\u001b[0m\u001b[0;34m\u001b[0m\u001b[0m\n",
            "\u001b[0;32m/usr/local/lib/python3.10/dist-packages/nltk/tokenize/__init__.py\u001b[0m in \u001b[0;36msent_tokenize\u001b[0;34m(text, language)\u001b[0m\n\u001b[1;32m    104\u001b[0m     \u001b[0;34m:\u001b[0m\u001b[0mparam\u001b[0m \u001b[0mlanguage\u001b[0m\u001b[0;34m:\u001b[0m \u001b[0mthe\u001b[0m \u001b[0mmodel\u001b[0m \u001b[0mname\u001b[0m \u001b[0;32min\u001b[0m \u001b[0mthe\u001b[0m \u001b[0mPunkt\u001b[0m \u001b[0mcorpus\u001b[0m\u001b[0;34m\u001b[0m\u001b[0;34m\u001b[0m\u001b[0m\n\u001b[1;32m    105\u001b[0m     \"\"\"\n\u001b[0;32m--> 106\u001b[0;31m     \u001b[0mtokenizer\u001b[0m \u001b[0;34m=\u001b[0m \u001b[0mload\u001b[0m\u001b[0;34m(\u001b[0m\u001b[0;34mf\"tokenizers/punkt/{language}.pickle\"\u001b[0m\u001b[0;34m)\u001b[0m\u001b[0;34m\u001b[0m\u001b[0;34m\u001b[0m\u001b[0m\n\u001b[0m\u001b[1;32m    107\u001b[0m     \u001b[0;32mreturn\u001b[0m \u001b[0mtokenizer\u001b[0m\u001b[0;34m.\u001b[0m\u001b[0mtokenize\u001b[0m\u001b[0;34m(\u001b[0m\u001b[0mtext\u001b[0m\u001b[0;34m)\u001b[0m\u001b[0;34m\u001b[0m\u001b[0;34m\u001b[0m\u001b[0m\n\u001b[1;32m    108\u001b[0m \u001b[0;34m\u001b[0m\u001b[0m\n",
            "\u001b[0;32m/usr/local/lib/python3.10/dist-packages/nltk/data.py\u001b[0m in \u001b[0;36mload\u001b[0;34m(resource_url, format, cache, verbose, logic_parser, fstruct_reader, encoding)\u001b[0m\n\u001b[1;32m    748\u001b[0m \u001b[0;34m\u001b[0m\u001b[0m\n\u001b[1;32m    749\u001b[0m     \u001b[0;31m# Load the resource.\u001b[0m\u001b[0;34m\u001b[0m\u001b[0;34m\u001b[0m\u001b[0m\n\u001b[0;32m--> 750\u001b[0;31m     \u001b[0mopened_resource\u001b[0m \u001b[0;34m=\u001b[0m \u001b[0m_open\u001b[0m\u001b[0;34m(\u001b[0m\u001b[0mresource_url\u001b[0m\u001b[0;34m)\u001b[0m\u001b[0;34m\u001b[0m\u001b[0;34m\u001b[0m\u001b[0m\n\u001b[0m\u001b[1;32m    751\u001b[0m \u001b[0;34m\u001b[0m\u001b[0m\n\u001b[1;32m    752\u001b[0m     \u001b[0;32mif\u001b[0m \u001b[0mformat\u001b[0m \u001b[0;34m==\u001b[0m \u001b[0;34m\"raw\"\u001b[0m\u001b[0;34m:\u001b[0m\u001b[0;34m\u001b[0m\u001b[0;34m\u001b[0m\u001b[0m\n",
            "\u001b[0;32m/usr/local/lib/python3.10/dist-packages/nltk/data.py\u001b[0m in \u001b[0;36m_open\u001b[0;34m(resource_url)\u001b[0m\n\u001b[1;32m    874\u001b[0m \u001b[0;34m\u001b[0m\u001b[0m\n\u001b[1;32m    875\u001b[0m     \u001b[0;32mif\u001b[0m \u001b[0mprotocol\u001b[0m \u001b[0;32mis\u001b[0m \u001b[0;32mNone\u001b[0m \u001b[0;32mor\u001b[0m \u001b[0mprotocol\u001b[0m\u001b[0;34m.\u001b[0m\u001b[0mlower\u001b[0m\u001b[0;34m(\u001b[0m\u001b[0;34m)\u001b[0m \u001b[0;34m==\u001b[0m \u001b[0;34m\"nltk\"\u001b[0m\u001b[0;34m:\u001b[0m\u001b[0;34m\u001b[0m\u001b[0;34m\u001b[0m\u001b[0m\n\u001b[0;32m--> 876\u001b[0;31m         \u001b[0;32mreturn\u001b[0m \u001b[0mfind\u001b[0m\u001b[0;34m(\u001b[0m\u001b[0mpath_\u001b[0m\u001b[0;34m,\u001b[0m \u001b[0mpath\u001b[0m \u001b[0;34m+\u001b[0m \u001b[0;34m[\u001b[0m\u001b[0;34m\"\"\u001b[0m\u001b[0;34m]\u001b[0m\u001b[0;34m)\u001b[0m\u001b[0;34m.\u001b[0m\u001b[0mopen\u001b[0m\u001b[0;34m(\u001b[0m\u001b[0;34m)\u001b[0m\u001b[0;34m\u001b[0m\u001b[0;34m\u001b[0m\u001b[0m\n\u001b[0m\u001b[1;32m    877\u001b[0m     \u001b[0;32melif\u001b[0m \u001b[0mprotocol\u001b[0m\u001b[0;34m.\u001b[0m\u001b[0mlower\u001b[0m\u001b[0;34m(\u001b[0m\u001b[0;34m)\u001b[0m \u001b[0;34m==\u001b[0m \u001b[0;34m\"file\"\u001b[0m\u001b[0;34m:\u001b[0m\u001b[0;34m\u001b[0m\u001b[0;34m\u001b[0m\u001b[0m\n\u001b[1;32m    878\u001b[0m         \u001b[0;31m# urllib might not use mode='rb', so handle this one ourselves:\u001b[0m\u001b[0;34m\u001b[0m\u001b[0;34m\u001b[0m\u001b[0m\n",
            "\u001b[0;32m/usr/local/lib/python3.10/dist-packages/nltk/data.py\u001b[0m in \u001b[0;36mfind\u001b[0;34m(resource_name, paths)\u001b[0m\n\u001b[1;32m    581\u001b[0m     \u001b[0msep\u001b[0m \u001b[0;34m=\u001b[0m \u001b[0;34m\"*\"\u001b[0m \u001b[0;34m*\u001b[0m \u001b[0;36m70\u001b[0m\u001b[0;34m\u001b[0m\u001b[0;34m\u001b[0m\u001b[0m\n\u001b[1;32m    582\u001b[0m     \u001b[0mresource_not_found\u001b[0m \u001b[0;34m=\u001b[0m \u001b[0;34mf\"\\n{sep}\\n{msg}\\n{sep}\\n\"\u001b[0m\u001b[0;34m\u001b[0m\u001b[0;34m\u001b[0m\u001b[0m\n\u001b[0;32m--> 583\u001b[0;31m     \u001b[0;32mraise\u001b[0m \u001b[0mLookupError\u001b[0m\u001b[0;34m(\u001b[0m\u001b[0mresource_not_found\u001b[0m\u001b[0;34m)\u001b[0m\u001b[0;34m\u001b[0m\u001b[0;34m\u001b[0m\u001b[0m\n\u001b[0m\u001b[1;32m    584\u001b[0m \u001b[0;34m\u001b[0m\u001b[0m\n\u001b[1;32m    585\u001b[0m \u001b[0;34m\u001b[0m\u001b[0m\n",
            "\u001b[0;31mLookupError\u001b[0m: \n**********************************************************************\n  Resource \u001b[93mpunkt\u001b[0m not found.\n  Please use the NLTK Downloader to obtain the resource:\n\n  \u001b[31m>>> import nltk\n  >>> nltk.download('punkt')\n  \u001b[0m\n  For more information see: https://www.nltk.org/data.html\n\n  Attempted to load \u001b[93mtokenizers/punkt/PY3/english.pickle\u001b[0m\n\n  Searched in:\n    - '/root/nltk_data'\n    - '/usr/nltk_data'\n    - '/usr/share/nltk_data'\n    - '/usr/lib/nltk_data'\n    - '/usr/share/nltk_data'\n    - '/usr/local/share/nltk_data'\n    - '/usr/lib/nltk_data'\n    - '/usr/local/lib/nltk_data'\n    - ''\n**********************************************************************\n"
          ]
        }
      ],
      "source": [
        "from bs4 import BeautifulSoup\n",
        "from bs4.element import Comment\n",
        "import nltk\n",
        "\n",
        "doc_url = \"https://math.stackexchange.com/questions/\"\\\n",
        "        \"411486/understanding-the-singular-value-decomposition-svd\"\n",
        "\n",
        "text = requests.get(doc_url).text\n",
        "dom = BeautifulSoup(text, \"html.parser\")\n",
        "\n",
        "paragraphs = [p.strip() for p in dom.text.split('\\n') if p.strip()]\n",
        "\n",
        "sents = []\n",
        "for p in paragraphs:\n",
        "    sents.extend(nltk.tokenize.sent_tokenize(p))\n",
        "\n",
        "print(sents[90:100])"
      ]
    },
    {
      "cell_type": "markdown",
      "id": "8ead20dc-0608-4dde-a34a-3663692c9c6c",
      "metadata": {
        "id": "8ead20dc-0608-4dde-a34a-3663692c9c6c"
      },
      "source": [
        "# Extract URLs from nodes\n",
        "\n",
        "Be careful with relative links. How would you process them?"
      ]
    },
    {
      "cell_type": "code",
      "execution_count": null,
      "id": "33586e48-d334-4641-9d37-a24894026b86",
      "metadata": {
        "colab": {
          "base_uri": "https://localhost:8080/"
        },
        "id": "33586e48-d334-4641-9d37-a24894026b86",
        "outputId": "fa10a122-1fd3-4d2e-a53d-90f41f02e858"
      },
      "outputs": [
        {
          "output_type": "execute_result",
          "data": {
            "text/plain": [
              "['https://bicycles.stackexchange.com/questions/95250/electric-skateboard-helmet-replacement',\n",
              " 'https://vi.stackexchange.com/questions/45420/need-strftime-output-in-the-buffer',\n",
              " 'https://retrocomputing.stackexchange.com/questions/30556/which-cards-use-%e2%88%925-v-and-%e2%88%9212-v-in-ibm-pc-compatible-systems',\n",
              " 'https://stackoverflow.com/legal/privacy-policy',\n",
              " 'https://stackexchange.com/sites#culturerecreation',\n",
              " 'https://api.stackexchange.com/',\n",
              " 'https://meta.stackexchange.com/questions/402121/bringing-clarity-to-status-tag-usage-on-meta-sites',\n",
              " 'https://en.wikipedia.org/wiki/Singular_value_decomposition#/media/File:Singular-Value-Decomposition.svg',\n",
              " 'https://worldbuilding.stackexchange.com/questions/261193/could-a-minineptune-host-life-at-the-surface-with-gas-giant-style-storms-up-abov',\n",
              " 'https://hermeneutics.stackexchange.com/questions/97423/the-last-person-in-daniel-11-who-is-it']"
            ]
          },
          "metadata": {},
          "execution_count": 34
        }
      ],
      "source": [
        "import urllib.parse\n",
        "\n",
        "all_hrefs = dom.find_all('a', href=True)\n",
        "all_urls = set()\n",
        "\n",
        "\n",
        "for a in all_hrefs:\n",
        "    href = a['href']\n",
        "    if urllib.parse.urlparse(href).scheme in ['http', 'https']:\n",
        "        all_urls.add(href)\n",
        "\n",
        "all_urls = list(all_urls)\n",
        "all_urls[:10]"
      ]
    },
    {
      "cell_type": "markdown",
      "id": "f9951d22-ec99-4d13-ad47-38d35d388827",
      "metadata": {
        "id": "f9951d22-ec99-4d13-ad47-38d35d388827"
      },
      "source": [
        "Discuss the next result:"
      ]
    },
    {
      "cell_type": "code",
      "execution_count": null,
      "id": "ec65f900-3a74-4664-8b38-301f7c292649",
      "metadata": {
        "colab": {
          "base_uri": "https://localhost:8080/"
        },
        "id": "ec65f900-3a74-4664-8b38-301f7c292649",
        "outputId": "e0bf5523-cd00-4e4e-ec54-a10442befe1b"
      },
      "outputs": [
        {
          "output_type": "stream",
          "name": "stdout",
          "text": [
            "|DOM ∩ REGX| = 54\n",
            "|DOM \\ REGX| = 22\n",
            "|REGX \\ DOM| = 72\n"
          ]
        }
      ],
      "source": [
        "print(\"|DOM ∩ REGX| =\", len(set(all_urls) & set(regexp_urls)))\n",
        "print(\"|DOM \\ REGX| =\", len(set(all_urls) - set(regexp_urls)))\n",
        "print(\"|REGX \\ DOM| =\", len(set(regexp_urls) - set(all_urls)))"
      ]
    },
    {
      "cell_type": "markdown",
      "id": "9a6bb8ed-9a9b-44db-bb97-9ef6cfe69b97",
      "metadata": {
        "id": "9a6bb8ed-9a9b-44db-bb97-9ef6cfe69b97"
      },
      "source": [
        "# Unique file name\n",
        "\n",
        "Please, never try to convert a domain (`google.com`), or a path component (`/index.php`) into a filename. They are not unique!\n",
        "\n",
        "Also, better not to try to substitute sensitive symbols of the full URL (`/:`...) -- you will definitely forget one. Also, you may easily overflow file name.\n",
        "\n",
        "Nice way is to use hash strings with fixed length and character set. Compute hash strings from the previous list."
      ]
    },
    {
      "cell_type": "code",
      "execution_count": null,
      "id": "83ab186e-d4e0-4612-a4f4-be7eadae4d47",
      "metadata": {
        "colab": {
          "base_uri": "https://localhost:8080/"
        },
        "id": "83ab186e-d4e0-4612-a4f4-be7eadae4d47",
        "outputId": "ff11a63c-8a8d-4438-e23e-35b9824c0101"
      },
      "outputs": [
        {
          "output_type": "stream",
          "name": "stdout",
          "text": [
            "Ellipsis https://bicycle...met-replacement\n",
            "Ellipsis https://vi.stac...t-in-the-buffer\n",
            "Ellipsis https://retroco...patible-systems\n",
            "Ellipsis https://stackov.../privacy-policy\n",
            "Ellipsis https://stackex...lturerecreation\n",
            "Ellipsis https://api.sta...ckexchange.com/\n",
            "Ellipsis https://meta.st...e-on-meta-sites\n",
            "Ellipsis https://en.wiki...composition.svg\n",
            "Ellipsis https://worldbu...-storms-up-abov\n",
            "Ellipsis https://hermene...el-11-who-is-it\n",
            "Ellipsis https://stackex.../sites#lifearts\n",
            "Ellipsis https://philoso...out-mathematics\n",
            "Ellipsis https://math.st...change.com/help\n",
            "Ellipsis https://math.st...ts-power-series\n",
            "Ellipsis https://i.sstat...c.net/ySv7S.png\n",
            "Ellipsis https://meta.st...olicy-july-2024\n",
            "Ellipsis https://math.me...r-new-moderator\n",
            "Ellipsis https://space.s...-iss-than-seats\n",
            "Ellipsis https://stackov...flow.blog?blb=1\n",
            "Ellipsis https://stackov...owai-learn-more\n"
          ]
        }
      ],
      "source": [
        "import hashlib\n",
        "\n",
        "for url in all_urls[:20]:\n",
        "    s = ...\n",
        "    print(s, url[:15] + \"...\" + url[-15:])"
      ]
    }
  ],
  "metadata": {
    "kernelspec": {
      "display_name": "ai",
      "language": "python",
      "name": "ai"
    },
    "language_info": {
      "codemirror_mode": {
        "name": "ipython",
        "version": 3
      },
      "file_extension": ".py",
      "mimetype": "text/x-python",
      "name": "python",
      "nbconvert_exporter": "python",
      "pygments_lexer": "ipython3",
      "version": "3.9.7"
    },
    "colab": {
      "provenance": []
    }
  },
  "nbformat": 4,
  "nbformat_minor": 5
}